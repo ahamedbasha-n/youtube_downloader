{
 "cells": [
  {
   "cell_type": "markdown",
   "metadata": {},
   "source": [
    "# YouTube Downloader"
   ]
  },
  {
   "cell_type": "markdown",
   "metadata": {},
   "source": [
    "1. Install pytube package from PyPi - https://pypi.org/project/pytube/ \n",
    "2. Sometimes, the pypi release becomes slightly outdated. To install from the source with: pip install git+https://github.com/pytube/pytube\n",
    "3. From Pytube Package import Youtube.\n",
    "4. Provide the necessary URL of the YouTube video.\n",
    "5. Declare a variable of yt and create a function of the url.\n",
    "6. Provide the Function.\n",
    "\n",
    "What is pytube?\n",
    "pytube is a lightweight, Pythonic, dependency-free, library (and command-line utility) for downloading YouTube Videos.\n",
    "\n",
    "What is streams?\n",
    "This module contains a container for stream manifest data. A container object for the media stream (video only / audio only / video+audio combined). \n",
    "\n",
    "What does first mean?\n",
    "first is an MIT-licensed Python package with a simple function that returns the first true value from an iterable, or None if there is none. If you need more power, you can also supply a key function that is used to judge the truth value of the element or a default value if None doesn't fit your use case.\n",
    "\n",
    "pytube documentation: https://readthedocs.org/projects/python-pytube/downloads/pdf/stable/\n"
   ]
  },
  {
   "cell_type": "code",
   "execution_count": 1,
   "metadata": {},
   "outputs": [
    {
     "name": "stdout",
     "output_type": "stream",
     "text": [
      "Requirement already satisfied: pytube in c:\\users\\hp\\anaconda3\\lib\\site-packages (10.8.1)\n",
      "Collecting git+https://github.com/pytube/pytube\n",
      "  Cloning https://github.com/pytube/pytube to c:\\users\\hp\\appdata\\local\\temp\\pip-req-build-5jz1qm7l\n",
      "Requirement already satisfied (use --upgrade to upgrade): pytube==10.8.1 from git+https://github.com/pytube/pytube in c:\\users\\hp\\anaconda3\\lib\\site-packages\n",
      "Building wheels for collected packages: pytube\n",
      "  Building wheel for pytube (setup.py): started\n",
      "  Building wheel for pytube (setup.py): finished with status 'done'\n",
      "  Created wheel for pytube: filename=pytube-10.8.1-py3-none-any.whl size=44611 sha256=40d448790222f4b7fb639a69fc9cb209eee6d538de036d39347b29ed5d15339d\n",
      "  Stored in directory: C:\\Users\\HP\\AppData\\Local\\Temp\\pip-ephem-wheel-cache-0xbeo69o\\wheels\\a8\\ac\\8c\\337af6a10cc543c5eadf4eb2bbd02bd8609b25bea729df338a\n",
      "Successfully built pytube\n"
     ]
    },
    {
     "data": {
      "text/plain": [
       "'F:\\\\Projects\\\\YouTube Video Downloader\\\\Tony Stark Meets Natasha Romanoff - I Want One - Iron-Man 2 (2010) Movie CLIP HD.mp4'"
      ]
     },
     "execution_count": 1,
     "metadata": {},
     "output_type": "execute_result"
    }
   ],
   "source": [
    "! pip install pytube\n",
    "! pip install git+https://github.com/pytube/pytube\n",
    "from pytube import YouTube\n",
    "url=\"https://youtu.be/OT2b5KzMoC0\"\n",
    "yt=YouTube(url)\n",
    "yt.streams.first().download()"
   ]
  },
  {
   "cell_type": "code",
   "execution_count": null,
   "metadata": {},
   "outputs": [],
   "source": []
  }
 ],
 "metadata": {
  "kernelspec": {
   "display_name": "Python 3",
   "language": "python",
   "name": "python3"
  },
  "language_info": {
   "codemirror_mode": {
    "name": "ipython",
    "version": 3
   },
   "file_extension": ".py",
   "mimetype": "text/x-python",
   "name": "python",
   "nbconvert_exporter": "python",
   "pygments_lexer": "ipython3",
   "version": "3.8.5"
  }
 },
 "nbformat": 4,
 "nbformat_minor": 4
}
